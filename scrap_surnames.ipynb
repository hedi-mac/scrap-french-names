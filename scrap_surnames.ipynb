{
 "cells": [
  {
   "cell_type": "code",
   "execution_count": null,
   "metadata": {},
   "outputs": [],
   "source": [
    "!pip install bs4"
   ]
  },
  {
   "cell_type": "code",
   "execution_count": 94,
   "metadata": {},
   "outputs": [],
   "source": [
    "import requests\n",
    "from bs4 import BeautifulSoup\n",
    "import fileinput"
   ]
  },
  {
   "cell_type": "code",
   "execution_count": 99,
   "metadata": {},
   "outputs": [],
   "source": [
    "url = 'https://en.wikipedia.org/wiki/Category:French-language_surnames'"
   ]
  },
  {
   "cell_type": "code",
   "execution_count": 100,
   "metadata": {},
   "outputs": [
    {
     "name": "stdout",
     "output_type": "stream",
     "text": [
      "['https://en.wikipedia.org/wiki/Category:French-language_surnames?from=A', 'https://en.wikipedia.org/wiki/Category:French-language_surnames?from=B', 'https://en.wikipedia.org/wiki/Category:French-language_surnames?from=C', 'https://en.wikipedia.org/wiki/Category:French-language_surnames?from=D', 'https://en.wikipedia.org/wiki/Category:French-language_surnames?from=E', 'https://en.wikipedia.org/wiki/Category:French-language_surnames?from=F', 'https://en.wikipedia.org/wiki/Category:French-language_surnames?from=G', 'https://en.wikipedia.org/wiki/Category:French-language_surnames?from=H', 'https://en.wikipedia.org/wiki/Category:French-language_surnames?from=I', 'https://en.wikipedia.org/wiki/Category:French-language_surnames?from=J', 'https://en.wikipedia.org/wiki/Category:French-language_surnames?from=K', 'https://en.wikipedia.org/wiki/Category:French-language_surnames?from=L', 'https://en.wikipedia.org/wiki/Category:French-language_surnames?from=M', 'https://en.wikipedia.org/wiki/Category:French-language_surnames?from=N', 'https://en.wikipedia.org/wiki/Category:French-language_surnames?from=O', 'https://en.wikipedia.org/wiki/Category:French-language_surnames?from=P', 'https://en.wikipedia.org/wiki/Category:French-language_surnames?from=Q', 'https://en.wikipedia.org/wiki/Category:French-language_surnames?from=R', 'https://en.wikipedia.org/wiki/Category:French-language_surnames?from=S', 'https://en.wikipedia.org/wiki/Category:French-language_surnames?from=T', 'https://en.wikipedia.org/wiki/Category:French-language_surnames?from=U', 'https://en.wikipedia.org/wiki/Category:French-language_surnames?from=V', 'https://en.wikipedia.org/wiki/Category:French-language_surnames?from=W', 'https://en.wikipedia.org/wiki/Category:French-language_surnames?from=X', 'https://en.wikipedia.org/wiki/Category:French-language_surnames?from=Y', 'https://en.wikipedia.org/wiki/Category:French-language_surnames?from=Z', 'https://en.wikipedia.org/wiki/Category:French-language_surnames?from=*', 'https://en.wikipedia.org/wiki/Category:French-language_surnames?from=0', 'https://en.wikipedia.org/wiki/Category:French-language_surnames?from=1', 'https://en.wikipedia.org/wiki/Category:French-language_surnames?from=2', 'https://en.wikipedia.org/wiki/Category:French-language_surnames?from=3', 'https://en.wikipedia.org/wiki/Category:French-language_surnames?from=4', 'https://en.wikipedia.org/wiki/Category:French-language_surnames?from=5', 'https://en.wikipedia.org/wiki/Category:French-language_surnames?from=6', 'https://en.wikipedia.org/wiki/Category:French-language_surnames?from=7', 'https://en.wikipedia.org/wiki/Category:French-language_surnames?from=8', 'https://en.wikipedia.org/wiki/Category:French-language_surnames?from=9', 'https://en.wikipedia.org/wiki/Category:French-language_surnames?from=Aa', 'https://en.wikipedia.org/wiki/Category:French-language_surnames?from=Ae', 'https://en.wikipedia.org/wiki/Category:French-language_surnames?from=Aj', 'https://en.wikipedia.org/wiki/Category:French-language_surnames?from=Ao', 'https://en.wikipedia.org/wiki/Category:French-language_surnames?from=At', 'https://en.wikipedia.org/wiki/Category:French-language_surnames?from=Ba', 'https://en.wikipedia.org/wiki/Category:French-language_surnames?from=Be', 'https://en.wikipedia.org/wiki/Category:French-language_surnames?from=Bj', 'https://en.wikipedia.org/wiki/Category:French-language_surnames?from=Bo', 'https://en.wikipedia.org/wiki/Category:French-language_surnames?from=Bt', 'https://en.wikipedia.org/wiki/Category:French-language_surnames?from=Ca', 'https://en.wikipedia.org/wiki/Category:French-language_surnames?from=Ce', 'https://en.wikipedia.org/wiki/Category:French-language_surnames?from=Cj', 'https://en.wikipedia.org/wiki/Category:French-language_surnames?from=Co', 'https://en.wikipedia.org/wiki/Category:French-language_surnames?from=Ct', 'https://en.wikipedia.org/wiki/Category:French-language_surnames?from=Da', 'https://en.wikipedia.org/wiki/Category:French-language_surnames?from=De', 'https://en.wikipedia.org/wiki/Category:French-language_surnames?from=Dj', 'https://en.wikipedia.org/wiki/Category:French-language_surnames?from=Do', 'https://en.wikipedia.org/wiki/Category:French-language_surnames?from=Dt', 'https://en.wikipedia.org/wiki/Category:French-language_surnames?from=Ea', 'https://en.wikipedia.org/wiki/Category:French-language_surnames?from=Ee', 'https://en.wikipedia.org/wiki/Category:French-language_surnames?from=Ej', 'https://en.wikipedia.org/wiki/Category:French-language_surnames?from=Eo', 'https://en.wikipedia.org/wiki/Category:French-language_surnames?from=Et', 'https://en.wikipedia.org/wiki/Category:French-language_surnames?from=Fa', 'https://en.wikipedia.org/wiki/Category:French-language_surnames?from=Fe', 'https://en.wikipedia.org/wiki/Category:French-language_surnames?from=Fj', 'https://en.wikipedia.org/wiki/Category:French-language_surnames?from=Fo', 'https://en.wikipedia.org/wiki/Category:French-language_surnames?from=Ft', 'https://en.wikipedia.org/wiki/Category:French-language_surnames?from=Ga', 'https://en.wikipedia.org/wiki/Category:French-language_surnames?from=Ge', 'https://en.wikipedia.org/wiki/Category:French-language_surnames?from=Gj', 'https://en.wikipedia.org/wiki/Category:French-language_surnames?from=Go', 'https://en.wikipedia.org/wiki/Category:French-language_surnames?from=Gt', 'https://en.wikipedia.org/wiki/Category:French-language_surnames?from=Ha', 'https://en.wikipedia.org/wiki/Category:French-language_surnames?from=He', 'https://en.wikipedia.org/wiki/Category:French-language_surnames?from=Hj', 'https://en.wikipedia.org/wiki/Category:French-language_surnames?from=Ho', 'https://en.wikipedia.org/wiki/Category:French-language_surnames?from=Ht', 'https://en.wikipedia.org/wiki/Category:French-language_surnames?from=Ia', 'https://en.wikipedia.org/wiki/Category:French-language_surnames?from=Ie', 'https://en.wikipedia.org/wiki/Category:French-language_surnames?from=Ij', 'https://en.wikipedia.org/wiki/Category:French-language_surnames?from=Io', 'https://en.wikipedia.org/wiki/Category:French-language_surnames?from=It', 'https://en.wikipedia.org/wiki/Category:French-language_surnames?from=Ja', 'https://en.wikipedia.org/wiki/Category:French-language_surnames?from=Je', 'https://en.wikipedia.org/wiki/Category:French-language_surnames?from=Jj', 'https://en.wikipedia.org/wiki/Category:French-language_surnames?from=Jo', 'https://en.wikipedia.org/wiki/Category:French-language_surnames?from=Jt', 'https://en.wikipedia.org/wiki/Category:French-language_surnames?from=Ka', 'https://en.wikipedia.org/wiki/Category:French-language_surnames?from=Ke', 'https://en.wikipedia.org/wiki/Category:French-language_surnames?from=Kj', 'https://en.wikipedia.org/wiki/Category:French-language_surnames?from=Ko', 'https://en.wikipedia.org/wiki/Category:French-language_surnames?from=Kt', 'https://en.wikipedia.org/wiki/Category:French-language_surnames?from=La', 'https://en.wikipedia.org/wiki/Category:French-language_surnames?from=Le', 'https://en.wikipedia.org/wiki/Category:French-language_surnames?from=Lj', 'https://en.wikipedia.org/wiki/Category:French-language_surnames?from=Lo', 'https://en.wikipedia.org/wiki/Category:French-language_surnames?from=Lt', 'https://en.wikipedia.org/wiki/Category:French-language_surnames?from=Ma', 'https://en.wikipedia.org/wiki/Category:French-language_surnames?from=Me', 'https://en.wikipedia.org/wiki/Category:French-language_surnames?from=Mj', 'https://en.wikipedia.org/wiki/Category:French-language_surnames?from=Mo', 'https://en.wikipedia.org/wiki/Category:French-language_surnames?from=Mt', 'https://en.wikipedia.org/wiki/Category:French-language_surnames?from=Na', 'https://en.wikipedia.org/wiki/Category:French-language_surnames?from=Ne', 'https://en.wikipedia.org/wiki/Category:French-language_surnames?from=Nj', 'https://en.wikipedia.org/wiki/Category:French-language_surnames?from=No', 'https://en.wikipedia.org/wiki/Category:French-language_surnames?from=Nt', 'https://en.wikipedia.org/wiki/Category:French-language_surnames?from=Oa', 'https://en.wikipedia.org/wiki/Category:French-language_surnames?from=Oe', 'https://en.wikipedia.org/wiki/Category:French-language_surnames?from=Oj', 'https://en.wikipedia.org/wiki/Category:French-language_surnames?from=Oo', 'https://en.wikipedia.org/wiki/Category:French-language_surnames?from=Ot', 'https://en.wikipedia.org/wiki/Category:French-language_surnames?from=Pa', 'https://en.wikipedia.org/wiki/Category:French-language_surnames?from=Pe', 'https://en.wikipedia.org/wiki/Category:French-language_surnames?from=Pj', 'https://en.wikipedia.org/wiki/Category:French-language_surnames?from=Po', 'https://en.wikipedia.org/wiki/Category:French-language_surnames?from=Pt', 'https://en.wikipedia.org/wiki/Category:French-language_surnames?from=Qa', 'https://en.wikipedia.org/wiki/Category:French-language_surnames?from=Qe', 'https://en.wikipedia.org/wiki/Category:French-language_surnames?from=Qj', 'https://en.wikipedia.org/wiki/Category:French-language_surnames?from=Qo', 'https://en.wikipedia.org/wiki/Category:French-language_surnames?from=Qt', 'https://en.wikipedia.org/wiki/Category:French-language_surnames?from=Ra', 'https://en.wikipedia.org/wiki/Category:French-language_surnames?from=Re', 'https://en.wikipedia.org/wiki/Category:French-language_surnames?from=Rj', 'https://en.wikipedia.org/wiki/Category:French-language_surnames?from=Ro', 'https://en.wikipedia.org/wiki/Category:French-language_surnames?from=Rt', 'https://en.wikipedia.org/wiki/Category:French-language_surnames?from=Sa', 'https://en.wikipedia.org/wiki/Category:French-language_surnames?from=Se', 'https://en.wikipedia.org/wiki/Category:French-language_surnames?from=Sj', 'https://en.wikipedia.org/wiki/Category:French-language_surnames?from=So', 'https://en.wikipedia.org/wiki/Category:French-language_surnames?from=St', 'https://en.wikipedia.org/wiki/Category:French-language_surnames?from=Ta', 'https://en.wikipedia.org/wiki/Category:French-language_surnames?from=Te', 'https://en.wikipedia.org/wiki/Category:French-language_surnames?from=Tj', 'https://en.wikipedia.org/wiki/Category:French-language_surnames?from=To', 'https://en.wikipedia.org/wiki/Category:French-language_surnames?from=Tt', 'https://en.wikipedia.org/wiki/Category:French-language_surnames?from=Ua', 'https://en.wikipedia.org/wiki/Category:French-language_surnames?from=Ue', 'https://en.wikipedia.org/wiki/Category:French-language_surnames?from=Uj', 'https://en.wikipedia.org/wiki/Category:French-language_surnames?from=Uo', 'https://en.wikipedia.org/wiki/Category:French-language_surnames?from=Ut', 'https://en.wikipedia.org/wiki/Category:French-language_surnames?from=Va', 'https://en.wikipedia.org/wiki/Category:French-language_surnames?from=Ve', 'https://en.wikipedia.org/wiki/Category:French-language_surnames?from=Vj', 'https://en.wikipedia.org/wiki/Category:French-language_surnames?from=Vo', 'https://en.wikipedia.org/wiki/Category:French-language_surnames?from=Vt', 'https://en.wikipedia.org/wiki/Category:French-language_surnames?from=Wa', 'https://en.wikipedia.org/wiki/Category:French-language_surnames?from=We', 'https://en.wikipedia.org/wiki/Category:French-language_surnames?from=Wj', 'https://en.wikipedia.org/wiki/Category:French-language_surnames?from=Wo', 'https://en.wikipedia.org/wiki/Category:French-language_surnames?from=Wt', 'https://en.wikipedia.org/wiki/Category:French-language_surnames?from=Xa', 'https://en.wikipedia.org/wiki/Category:French-language_surnames?from=Xe', 'https://en.wikipedia.org/wiki/Category:French-language_surnames?from=Xj', 'https://en.wikipedia.org/wiki/Category:French-language_surnames?from=Xo', 'https://en.wikipedia.org/wiki/Category:French-language_surnames?from=Xt', 'https://en.wikipedia.org/wiki/Category:French-language_surnames?from=Ya', 'https://en.wikipedia.org/wiki/Category:French-language_surnames?from=Ye', 'https://en.wikipedia.org/wiki/Category:French-language_surnames?from=Yj', 'https://en.wikipedia.org/wiki/Category:French-language_surnames?from=Yo', 'https://en.wikipedia.org/wiki/Category:French-language_surnames?from=Yt', 'https://en.wikipedia.org/wiki/Category:French-language_surnames?from=Za', 'https://en.wikipedia.org/wiki/Category:French-language_surnames?from=Ze', 'https://en.wikipedia.org/wiki/Category:French-language_surnames?from=Zj', 'https://en.wikipedia.org/wiki/Category:French-language_surnames?from=Zo', 'https://en.wikipedia.org/wiki/Category:French-language_surnames?from=Zt']\n"
     ]
    }
   ],
   "source": [
    "# Send a GET request to the Wikipedia category page\n",
    "response = requests.get(url)\n",
    "\n",
    "# Parse the HTML content of the response using BeautifulSoup\n",
    "soup = BeautifulSoup(response.content, 'html.parser')\n",
    "\n",
    "# Find the HTML elements that contain the names of the surnames\n",
    "links = soup.find_all('a')\n",
    "links = [link.get('href') for link in links[80:247]]\n",
    "print(links)\n"
   ]
  },
  {
   "cell_type": "code",
   "execution_count": 70,
   "metadata": {},
   "outputs": [],
   "source": [
    "def extract_surnames(url):\n",
    "    # Send a GET request to the Wikipedia category page\n",
    "    response = requests.get(url)\n",
    "\n",
    "    # Parse the HTML content of the response using BeautifulSoup\n",
    "    soup = BeautifulSoup(response.content, 'html.parser')\n",
    "\n",
    "    # Find the HTML elements that contain the names of the surnames\n",
    "    surname_div = soup.find_all('div', class_='mw-category-group')[1:]\n",
    "    for div in surname_div : \n",
    "        surname_links = div.find_all('a')\n",
    "        # Extract the text content of the links\n",
    "        surnames = [link.text for link in surname_links]\n",
    "\n",
    "        # Write the surname names to a file\n",
    "        with open('french_surnames.txt', 'a') as f:\n",
    "            for surname in surnames:\n",
    "                f.write(surname + '\\n')"
   ]
  },
  {
   "cell_type": "code",
   "execution_count": 72,
   "metadata": {},
   "outputs": [],
   "source": [
    "for link in links:\n",
    "    extract_surnames(link)"
   ]
  },
  {
   "cell_type": "code",
   "execution_count": 83,
   "metadata": {},
   "outputs": [],
   "source": [
    "with open('french_surnames.txt', 'r') as f:\n",
    "    # Read the entire file into a string\n",
    "    text = f.read()\n",
    "\n",
    "# Split the string into words\n",
    "words = text.split('\\n')\n",
    "\n",
    "# Remove duplicates using a set\n",
    "unique_words = sorted(set(words))\n",
    "deleted = [\"\"]\n",
    "with open('french_surnames_clean.txt', 'w') as f:\n",
    "    # Write the unique words back to the file\n",
    "    for word in unique_words:\n",
    "        f.write(word + '\\n')"
   ]
  },
  {
   "cell_type": "code",
   "execution_count": 92,
   "metadata": {},
   "outputs": [],
   "source": [
    "def remove_comments(str):\n",
    "    filename = \"french_surnames_clean.txt\"\n",
    "    substring = \" \"+str\n",
    "\n",
    "    for line in fileinput.input(filename, inplace=True):\n",
    "        if substring not in line:\n",
    "            print(line, end=\"\")\n",
    "        else:\n",
    "            print(line.split(substring, 1)[0])"
   ]
  },
  {
   "cell_type": "code",
   "execution_count": 93,
   "metadata": {},
   "outputs": [],
   "source": [
    "comments = [\"(name)\", \"(surname)\", \"(disambiguation)\"]\n",
    "rm_comments = [remove_comments(comment) for comment in comments]"
   ]
  }
 ],
 "metadata": {
  "kernelspec": {
   "display_name": "base",
   "language": "python",
   "name": "python3"
  },
  "language_info": {
   "codemirror_mode": {
    "name": "ipython",
    "version": 3
   },
   "file_extension": ".py",
   "mimetype": "text/x-python",
   "name": "python",
   "nbconvert_exporter": "python",
   "pygments_lexer": "ipython3",
   "version": "3.9.16"
  },
  "orig_nbformat": 4,
  "vscode": {
   "interpreter": {
    "hash": "977974eb2e3aaf3b29977f54579d15edfa5b9a7730499421856febc4625a6eed"
   }
  }
 },
 "nbformat": 4,
 "nbformat_minor": 2
}

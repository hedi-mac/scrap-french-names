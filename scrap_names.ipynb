{
 "cells": [
  {
   "cell_type": "code",
   "execution_count": null,
   "metadata": {},
   "outputs": [],
   "source": [
    "!pip install bs4"
   ]
  },
  {
   "cell_type": "code",
   "execution_count": 1,
   "metadata": {},
   "outputs": [],
   "source": [
    "import requests\n",
    "from bs4 import BeautifulSoup\n",
    "import fileinput"
   ]
  },
  {
   "cell_type": "code",
   "execution_count": 2,
   "metadata": {},
   "outputs": [],
   "source": [
    "url = 'https://en.wiktionary.org/wiki/Category:French_given_names'"
   ]
  },
  {
   "cell_type": "code",
   "execution_count": 3,
   "metadata": {},
   "outputs": [
    {
     "name": "stdout",
     "output_type": "stream",
     "text": [
      "['https://en.wiktionary.org/w/index.php?title=Category:French_given_names&from=A', 'https://en.wiktionary.org/w/index.php?title=Category:French_given_names&from=A', 'https://en.wiktionary.org/w/index.php?title=Category:French_given_names&from=A', 'https://en.wiktionary.org/w/index.php?title=Category:French_given_names&from=AE', 'https://en.wiktionary.org/w/index.php?title=Category:French_given_names&from=A', 'https://en.wiktionary.org/w/index.php?title=Category:French_given_names&from=B', 'https://en.wiktionary.org/w/index.php?title=Category:French_given_names&from=C', 'https://en.wiktionary.org/w/index.php?title=Category:French_given_names&from=C', 'https://en.wiktionary.org/w/index.php?title=Category:French_given_names&from=D', 'https://en.wiktionary.org/w/index.php?title=Category:French_given_names&from=E', 'https://en.wiktionary.org/w/index.php?title=Category:French_given_names&from=E', 'https://en.wiktionary.org/w/index.php?title=Category:French_given_names&from=E', 'https://en.wiktionary.org/w/index.php?title=Category:French_given_names&from=E', 'https://en.wiktionary.org/w/index.php?title=Category:French_given_names&from=E', 'https://en.wiktionary.org/w/index.php?title=Category:French_given_names&from=F', 'https://en.wiktionary.org/w/index.php?title=Category:French_given_names&from=G', 'https://en.wiktionary.org/w/index.php?title=Category:French_given_names&from=H', 'https://en.wiktionary.org/w/index.php?title=Category:French_given_names&from=I', 'https://en.wiktionary.org/w/index.php?title=Category:French_given_names&from=I', 'https://en.wiktionary.org/w/index.php?title=Category:French_given_names&from=I', 'https://en.wiktionary.org/w/index.php?title=Category:French_given_names&from=J', 'https://en.wiktionary.org/w/index.php?title=Category:French_given_names&from=K', 'https://en.wiktionary.org/w/index.php?title=Category:French_given_names&from=L', 'https://en.wiktionary.org/w/index.php?title=Category:French_given_names&from=M', 'https://en.wiktionary.org/w/index.php?title=Category:French_given_names&from=N', 'https://en.wiktionary.org/w/index.php?title=Category:French_given_names&from=O', 'https://en.wiktionary.org/w/index.php?title=Category:French_given_names&from=O', 'https://en.wiktionary.org/w/index.php?title=Category:French_given_names&from=OE', 'https://en.wiktionary.org/w/index.php?title=Category:French_given_names&from=O', 'https://en.wiktionary.org/w/index.php?title=Category:French_given_names&from=P', 'https://en.wiktionary.org/w/index.php?title=Category:French_given_names&from=Q', 'https://en.wiktionary.org/w/index.php?title=Category:French_given_names&from=R', 'https://en.wiktionary.org/w/index.php?title=Category:French_given_names&from=S', 'https://en.wiktionary.org/w/index.php?title=Category:French_given_names&from=T', 'https://en.wiktionary.org/w/index.php?title=Category:French_given_names&from=U', 'https://en.wiktionary.org/w/index.php?title=Category:French_given_names&from=U', 'https://en.wiktionary.org/w/index.php?title=Category:French_given_names&from=U', 'https://en.wiktionary.org/w/index.php?title=Category:French_given_names&from=U', 'https://en.wiktionary.org/w/index.php?title=Category:French_given_names&from=V', 'https://en.wiktionary.org/w/index.php?title=Category:French_given_names&from=W', 'https://en.wiktionary.org/w/index.php?title=Category:French_given_names&from=X', 'https://en.wiktionary.org/w/index.php?title=Category:French_given_names&from=Y', 'https://en.wiktionary.org/w/index.php?title=Category:French_given_names&from=Y', 'https://en.wiktionary.org/w/index.php?title=Category:French_given_names&from=Z']\n"
     ]
    }
   ],
   "source": [
    "# Send a GET request to the Wikipedia category page\n",
    "response = requests.get(url)\n",
    "\n",
    "# Parse the HTML content of the response using BeautifulSoup\n",
    "soup = BeautifulSoup(response.content, 'html.parser')\n",
    "\n",
    "# Find the HTML elements that contain the names of the surnames\n",
    "links = soup.find_all('a')\n",
    "links = [link.get('href') for link in links[38:82]]\n",
    "print(links)\n"
   ]
  },
  {
   "cell_type": "code",
   "execution_count": 14,
   "metadata": {},
   "outputs": [],
   "source": [
    "def extract_names(url):\n",
    "    # Send a GET request to the Wikipedia category page\n",
    "    response = requests.get(url)\n",
    "\n",
    "    # Parse the HTML content of the response using BeautifulSoup\n",
    "    soup = BeautifulSoup(response.content, 'html.parser')\n",
    "\n",
    "    # Find the HTML elements that contain the names of the surnames\n",
    "    name_div = soup.find_all('div', class_='mw-category-group')[1:]\n",
    "    for div in name_div : \n",
    "        name_links = div.find_all('a')\n",
    "        # Extract the text content of the links\n",
    "        names = [link.text for link in name_links]\n",
    "        substring = \"French\"\n",
    "        names = [s for s in names if substring not in s]\n",
    "\n",
    "        # Write the surname names to a file\n",
    "        with open('french_names.txt', 'a') as f:\n",
    "            for name in names:\n",
    "                f.write(name + '\\n')"
   ]
  },
  {
   "cell_type": "code",
   "execution_count": 15,
   "metadata": {},
   "outputs": [],
   "source": [
    "for link in links:\n",
    "    extract_names(link)"
   ]
  },
  {
   "cell_type": "code",
   "execution_count": 16,
   "metadata": {},
   "outputs": [],
   "source": [
    "with open('french_names.txt', 'r') as f:\n",
    "    # Read the entire file into a string\n",
    "    text = f.read()\n",
    "\n",
    "# Split the string into words\n",
    "words = text.split('\\n')\n",
    "\n",
    "# Remove duplicates using a set\n",
    "unique_words = sorted(set(words))\n",
    "deleted = [\"\"]\n",
    "with open('french_names_clean.txt', 'w') as f:\n",
    "    # Write the unique words back to the file\n",
    "    for word in unique_words:\n",
    "        f.write(word + '\\n')"
   ]
  }
 ],
 "metadata": {
  "kernelspec": {
   "display_name": "base",
   "language": "python",
   "name": "python3"
  },
  "language_info": {
   "codemirror_mode": {
    "name": "ipython",
    "version": 3
   },
   "file_extension": ".py",
   "mimetype": "text/x-python",
   "name": "python",
   "nbconvert_exporter": "python",
   "pygments_lexer": "ipython3",
   "version": "3.9.16"
  },
  "orig_nbformat": 4,
  "vscode": {
   "interpreter": {
    "hash": "977974eb2e3aaf3b29977f54579d15edfa5b9a7730499421856febc4625a6eed"
   }
  }
 },
 "nbformat": 4,
 "nbformat_minor": 2
}
